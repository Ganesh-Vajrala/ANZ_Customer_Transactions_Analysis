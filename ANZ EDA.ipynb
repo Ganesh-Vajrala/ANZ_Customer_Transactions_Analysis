{
 "cells": [
  {
   "cell_type": "code",
   "execution_count": 0,
   "metadata": {
    "application/vnd.databricks.v1+cell": {
     "cellMetadata": {
      "byteLimit": 2048000,
      "rowLimit": 10000
     },
     "inputWidgets": {},
     "nuid": "d2791678-b49d-425a-929c-4b5328d267be",
     "showTitle": true,
     "tableResultSettingsMap": {},
     "title": "- List of Tables in anzdb"
    }
   },
   "outputs": [],
   "source": [
    "-- Show available tables\n",
    "SHOW TABLES IN anzdb;"
   ]
  },
  {
   "cell_type": "markdown",
   "metadata": {
    "application/vnd.databricks.v1+cell": {
     "cellMetadata": {},
     "inputWidgets": {},
     "nuid": "c0df38f7-ee60-4245-b582-ef84c9365c00",
     "showTitle": false,
     "tableResultSettingsMap": {},
     "title": ""
    }
   },
   "source": [
    "### 1. Load the Silver Table and Basic Checks"
   ]
  },
  {
   "cell_type": "code",
   "execution_count": 0,
   "metadata": {
    "application/vnd.databricks.v1+cell": {
     "cellMetadata": {
      "byteLimit": 2048000,
      "rowLimit": 10000
     },
     "inputWidgets": {},
     "nuid": "650d71e1-2b76-481e-a8f8-d26aedf161ce",
     "showTitle": true,
     "tableResultSettingsMap": {},
     "title": "Selecting All Data from anz.transactions_silver"
    }
   },
   "outputs": [],
   "source": [
    "select * from anz.transactions_silver;"
   ]
  },
  {
   "cell_type": "code",
   "execution_count": 0,
   "metadata": {
    "application/vnd.databricks.v1+cell": {
     "cellMetadata": {
      "byteLimit": 2048000,
      "rowLimit": 10000
     },
     "inputWidgets": {},
     "nuid": "e2a0a022-b9c3-40f1-98df-2decb4760791",
     "showTitle": true,
     "tableResultSettingsMap": {},
     "title": "Total Transaction Count in anzdb.transactions_silver"
    }
   },
   "outputs": [],
   "source": [
    "select count(*) from anzdb.transactions_silver;"
   ]
  },
  {
   "cell_type": "code",
   "execution_count": 0,
   "metadata": {
    "application/vnd.databricks.v1+cell": {
     "cellMetadata": {
      "byteLimit": 2048000,
      "rowLimit": 10000
     },
     "inputWidgets": {},
     "nuid": "9c2ba808-e1d2-4067-bd6b-e9382f550bc9",
     "showTitle": true,
     "tableResultSettingsMap": {},
     "title": "Table Structure of anzdb.transactions_silver"
    }
   },
   "outputs": [],
   "source": [
    "DESCRIBE TABLE anzdb.transactions_silver;"
   ]
  },
  {
   "cell_type": "markdown",
   "metadata": {
    "application/vnd.databricks.v1+cell": {
     "cellMetadata": {},
     "inputWidgets": {},
     "nuid": "58cd1ed6-2f85-4b11-a86a-8f1929affaa1",
     "showTitle": false,
     "tableResultSettingsMap": {},
     "title": ""
    }
   },
   "source": [
    "### 2. Analyzing Individual Columns"
   ]
  },
  {
   "cell_type": "markdown",
   "metadata": {
    "application/vnd.databricks.v1+cell": {
     "cellMetadata": {},
     "inputWidgets": {},
     "nuid": "570713ff-563c-457d-ab76-6e8f09e2d209",
     "showTitle": false,
     "tableResultSettingsMap": {},
     "title": ""
    }
   },
   "source": []
  },
  {
   "cell_type": "code",
   "execution_count": 0,
   "metadata": {
    "application/vnd.databricks.v1+cell": {
     "cellMetadata": {
      "byteLimit": 2048000,
      "rowLimit": 10000
     },
     "inputWidgets": {},
     "nuid": "b6125750-2827-403d-823f-747c6ee8bf6e",
     "showTitle": true,
     "tableResultSettingsMap": {},
     "title": "- Summary Statistics for Transaction Amounts"
    }
   },
   "outputs": [],
   "source": [
    "SELECT\n",
    "    MIN(amount) AS min_amount,\n",
    "    MAX(amount) AS max_amount,\n",
    "    AVG(amount) AS avg_amount,\n",
    "    STDDEV(amount) AS stddev_amount,\n",
    "    PERCENTILE_APPROX(amount, 0.25) AS percentile_25_amount,\n",
    "    PERCENTILE_APPROX(amount, 0.50) AS median_amount,\n",
    "    PERCENTILE_APPROX(amount, 0.75) AS percentile_75_amount\n",
    "FROM anzdb.transactions_silver;\n"
   ]
  },
  {
   "cell_type": "code",
   "execution_count": 0,
   "metadata": {
    "application/vnd.databricks.v1+cell": {
     "cellMetadata": {
      "byteLimit": 2048000,
      "rowLimit": 10000
     },
     "inputWidgets": {},
     "nuid": "1e426b6e-f846-41ca-a61a-351702d1e497",
     "showTitle": true,
     "tableResultSettingsMap": {},
     "title": "- Age Statistics"
    }
   },
   "outputs": [],
   "source": [
    "SELECT\n",
    "    MIN(age) AS min_age,\n",
    "    MAX(age) AS max_age,\n",
    "    AVG(age) AS avg_age,\n",
    "    PERCENTILE_APPROX(age, 0.50) AS median_age\n",
    "FROM anzdb.transactions_silver;"
   ]
  },
  {
   "cell_type": "code",
   "execution_count": 0,
   "metadata": {
    "application/vnd.databricks.v1+cell": {
     "cellMetadata": {
      "byteLimit": 2048000,
      "rowLimit": 10000
     },
     "inputWidgets": {},
     "nuid": "db6e9448-99ec-47ba-8236-b41e543fd42f",
     "showTitle": true,
     "tableResultSettingsMap": {},
     "title": "Transaction Descriptions by Frequency"
    }
   },
   "outputs": [],
   "source": [
    "SELECT\n",
    "    txn_description,\n",
    "    COUNT(*) AS frequency\n",
    "FROM transactions_silver\n",
    "GROUP BY txn_description\n",
    "ORDER BY frequency DESC\n",
    "LIMIT 20;"
   ]
  },
  {
   "cell_type": "code",
   "execution_count": 0,
   "metadata": {
    "application/vnd.databricks.v1+cell": {
     "cellMetadata": {
      "byteLimit": 2048000,
      "rowLimit": 10000
     },
     "inputWidgets": {},
     "nuid": "4619c4f4-070c-49bc-a291-5225044565f5",
     "showTitle": true,
     "tableResultSettingsMap": {},
     "title": "- Merchant State Frequency in Transactions"
    }
   },
   "outputs": [],
   "source": [
    "SELECT\n",
    "    merchant_state,\n",
    "    COUNT(*) AS frequency\n",
    "FROM transactions_silver\n",
    "GROUP BY merchant_state\n",
    "ORDER BY frequency DESC;"
   ]
  },
  {
   "cell_type": "code",
   "execution_count": 0,
   "metadata": {
    "application/vnd.databricks.v1+cell": {
     "cellMetadata": {
      "byteLimit": 2048000,
      "rowLimit": 10000
     },
     "inputWidgets": {},
     "nuid": "2af793e1-7d60-43a2-9896-29160b970d84",
     "showTitle": true,
     "tableResultSettingsMap": {},
     "title": "- Gender Frequency in Transactions"
    }
   },
   "outputs": [],
   "source": [
    "SELECT\n",
    "    gender,\n",
    "    COUNT(*) AS frequency\n",
    "FROM transactions_silver\n",
    "GROUP BY gender\n",
    "ORDER BY frequency DESC;"
   ]
  },
  {
   "cell_type": "code",
   "execution_count": 0,
   "metadata": {
    "application/vnd.databricks.v1+cell": {
     "cellMetadata": {
      "byteLimit": 2048000,
      "rowLimit": 10000
     },
     "inputWidgets": {},
     "nuid": "992d021b-e361-4463-916c-340a50604a50",
     "showTitle": true,
     "tableResultSettingsMap": {},
     "title": "- Transaction Status Frequency in Transactions"
    }
   },
   "outputs": [],
   "source": [
    "SELECT\n",
    "    status,\n",
    "    COUNT(*) AS frequency\n",
    "FROM transactions_silver\n",
    "GROUP BY status\n",
    "ORDER BY frequency DESC;"
   ]
  },
  {
   "cell_type": "code",
   "execution_count": 0,
   "metadata": {
    "application/vnd.databricks.v1+cell": {
     "cellMetadata": {
      "byteLimit": 2048000,
      "rowLimit": 10000
     },
     "inputWidgets": {},
     "nuid": "4a3ecf04-717c-4318-8f4b-18972c88f94a",
     "showTitle": true,
     "tableResultSettingsMap": {},
     "title": "- Transaction Date Range in transactions_silver"
    }
   },
   "outputs": [],
   "source": [
    "SELECT\n",
    "    MIN(transaction_date) AS min_transaction_date,\n",
    "    MAX(transaction_date) AS max_transaction_date\n",
    "FROM transactions_silver;"
   ]
  },
  {
   "cell_type": "code",
   "execution_count": 0,
   "metadata": {
    "application/vnd.databricks.v1+cell": {
     "cellMetadata": {
      "byteLimit": 2048000,
      "rowLimit": 10000
     },
     "inputWidgets": {},
     "nuid": "28b767f9-5997-442b-ba08-cc012bb93a96",
     "showTitle": true,
     "tableResultSettingsMap": {},
     "title": "- Monthly Transaction Count in transactions_silver"
    }
   },
   "outputs": [],
   "source": [
    "SELECT\n",
    "    DATE_FORMAT(transaction_date, 'MMMM') AS transaction_month, -- 'MMMM' for full month name\n",
    "    COUNT(*) AS num_transactions\n",
    "FROM transactions_silver\n",
    "GROUP BY transaction_month\n",
    "ORDER BY transaction_month;"
   ]
  },
  {
   "cell_type": "code",
   "execution_count": 0,
   "metadata": {
    "application/vnd.databricks.v1+cell": {
     "cellMetadata": {
      "byteLimit": 2048000,
      "rowLimit": 10000
     },
     "inputWidgets": {},
     "nuid": "d06a2638-f8e8-4253-8022-0e3289b22a63",
     "showTitle": true,
     "tableResultSettingsMap": {},
     "title": "- Transactions by Day of the Week"
    }
   },
   "outputs": [],
   "source": [
    "SELECT\n",
    "    DAYOFWEEK(transaction_date) AS day_of_week_num, -- Sunday=1, Saturday=7 \n",
    "    DATE_FORMAT(transaction_date, 'E') AS day_of_week_name, -- e.g., Mon, Tue\n",
    "    COUNT(*) AS num_transactions\n",
    "FROM transactions_silver\n",
    "GROUP BY DAYOFWEEK(transaction_date), DATE_FORMAT(transaction_date, 'E')\n",
    "ORDER BY day_of_week_num;"
   ]
  },
  {
   "cell_type": "markdown",
   "metadata": {
    "application/vnd.databricks.v1+cell": {
     "cellMetadata": {},
     "inputWidgets": {},
     "nuid": "7386d529-14c0-4494-9e74-c02979bb482a",
     "showTitle": false,
     "tableResultSettingsMap": {},
     "title": ""
    }
   },
   "source": [
    "### Bivariate/Multivariate Analysis (Relationships between columns)"
   ]
  },
  {
   "cell_type": "code",
   "execution_count": 0,
   "metadata": {
    "application/vnd.databricks.v1+cell": {
     "cellMetadata": {
      "byteLimit": 2048000,
      "rowLimit": 10000
     },
     "inputWidgets": {},
     "nuid": "d5171321-0a05-4be6-b0cb-e1b1b103ddbb",
     "showTitle": true,
     "tableResultSettingsMap": {},
     "title": "- Gender-wise Spending Analysis in Transactions"
    }
   },
   "outputs": [],
   "source": [
    "SELECT\n",
    "    gender,\n",
    "    AVG(amount) AS avg_spend,\n",
    "    SUM(amount) AS total_spend,\n",
    "    COUNT(*) AS transaction_count\n",
    "FROM transactions_silver\n",
    "GROUP BY gender;"
   ]
  },
  {
   "cell_type": "code",
   "execution_count": 0,
   "metadata": {
    "application/vnd.databricks.v1+cell": {
     "cellMetadata": {},
     "inputWidgets": {},
     "nuid": "9c051a24-f192-4b8b-8b80-21c06d40fc07",
     "showTitle": true,
     "tableResultSettingsMap": {},
     "title": "-Top 10 Merchant States by Spending and Transactions"
    }
   },
   "outputs": [],
   "source": [
    "SELECT\n",
    "    merchant_state,\n",
    "    AVG(amount) AS avg_spend,\n",
    "    SUM(amount) AS total_spend,\n",
    "    COUNT(*) AS transaction_count\n",
    "FROM transactions_silver\n",
    "GROUP BY merchant_state\n",
    "ORDER BY total_spend DESC\n",
    "LIMIT 10;"
   ]
  },
  {
   "cell_type": "code",
   "execution_count": 0,
   "metadata": {
    "application/vnd.databricks.v1+cell": {
     "cellMetadata": {
      "byteLimit": 2048000,
      "rowLimit": 10000
     },
     "inputWidgets": {},
     "nuid": "d9a69fff-b360-49f8-aeac-4e6fd8885329",
     "showTitle": true,
     "tableResultSettingsMap": {},
     "title": "- Age Group Spending Analysis in Transactions"
    }
   },
   "outputs": [],
   "source": [
    "SELECT\n",
    "    CASE\n",
    "        WHEN age < 20 THEN 'Under 20'\n",
    "        WHEN age BETWEEN 20 AND 29 THEN '20-29'\n",
    "        WHEN age BETWEEN 30 AND 39 THEN '30-39'\n",
    "        WHEN age BETWEEN 40 AND 49 THEN '40-49'\n",
    "        WHEN age BETWEEN 50 AND 59 THEN '50-59'\n",
    "        WHEN age >= 60 THEN '60+'\n",
    "        ELSE 'Unknown'\n",
    "    END AS age_group,\n",
    "    AVG(amount) AS avg_spend,\n",
    "    SUM(amount) AS total_spend,\n",
    "    COUNT(*) AS transaction_count\n",
    "FROM transactions_silver\n",
    "GROUP BY age_group\n",
    "ORDER BY age_group;"
   ]
  },
  {
   "cell_type": "markdown",
   "metadata": {
    "application/vnd.databricks.v1+cell": {
     "cellMetadata": {},
     "inputWidgets": {},
     "nuid": "fe7eab39-86c9-4fcd-a4a6-7f7067d35b74",
     "showTitle": false,
     "tableResultSettingsMap": {},
     "title": ""
    }
   },
   "source": [
    "### Customer-Level Aggregations"
   ]
  },
  {
   "cell_type": "code",
   "execution_count": 0,
   "metadata": {
    "application/vnd.databricks.v1+cell": {
     "cellMetadata": {
      "byteLimit": 2048000,
      "rowLimit": 10000
     },
     "inputWidgets": {},
     "nuid": "5de7c0c7-57ac-421f-9891-8faca45d4393",
     "showTitle": true,
     "tableResultSettingsMap": {},
     "title": "- Top 10 Customers by Total Spend and Transaction Stats"
    }
   },
   "outputs": [],
   "source": [
    "SELECT\n",
    "customer_id,\n",
    "SUM(amount) AS total_spend_per_customer,\n",
    "COUNT(*) AS transaction_count_per_customer,\n",
    "AVG(amount) AS avg_transaction_amount_per_customer,\n",
    "MIN(transaction_date) AS first_txn_date,\n",
    "MAX(transaction_date) AS last_txn_date,\n",
    "DATEDIFF((SELECT MAX(transaction_date) FROM transactions_silver), MAX(transaction_date)) AS recency_days \n",
    "FROM transactions_silver\n",
    "GROUP BY customer_id\n",
    "ORDER BY total_spend_per_customer DESC\n",
    "LIMIT 10;\n"
   ]
  },
  {
   "cell_type": "code",
   "execution_count": 0,
   "metadata": {
    "application/vnd.databricks.v1+cell": {
     "cellMetadata": {
      "byteLimit": 2048000,
      "rowLimit": 10000
     },
     "inputWidgets": {},
     "nuid": "9dd8823b-ff4f-4fe3-b9bf-53163c3be168",
     "showTitle": true,
     "tableResultSettingsMap": {},
     "title": "- Total Spend per Customer Analysis"
    }
   },
   "outputs": [],
   "source": [
    "SELECT\n",
    "    customer_id,\n",
    "    SUM(amount) AS total_spend_per_customer\n",
    "FROM transactions_silver\n",
    "GROUP BY customer_id\n",
    "ORDER BY total_spend_per_customer DESC"
   ]
  },
  {
   "cell_type": "markdown",
   "metadata": {
    "application/vnd.databricks.v1+cell": {
     "cellMetadata": {},
     "inputWidgets": {},
     "nuid": "60d98336-d730-4dd4-a725-91433d9131fc",
     "showTitle": false,
     "tableResultSettingsMap": {},
     "title": ""
    }
   },
   "source": [
    "### Exploratory Data Analysis on Customer Profile for Segmentation **Threshold**"
   ]
  },
  {
   "cell_type": "code",
   "execution_count": 0,
   "metadata": {
    "application/vnd.databricks.v1+cell": {
     "cellMetadata": {
      "byteLimit": 2048000,
      "rowLimit": 10000
     },
     "inputWidgets": {},
     "nuid": "68877f02-9e9f-45ff-bba5-8705f5130ea6",
     "showTitle": false,
     "tableResultSettingsMap": {},
     "title": ""
    }
   },
   "outputs": [],
   "source": [
    "select * from anzdb.customer_master_profile_gold;"
   ]
  },
  {
   "cell_type": "code",
   "execution_count": 0,
   "metadata": {
    "application/vnd.databricks.v1+cell": {
     "cellMetadata": {
      "byteLimit": 2048000,
      "rowLimit": 10000
     },
     "inputWidgets": {},
     "nuid": "7a076867-665b-483f-8458-5b2b785fdea8",
     "showTitle": true,
     "tableResultSettingsMap": {},
     "title": "- Summary Statistics for Customer Spending"
    }
   },
   "outputs": [],
   "source": [
    "select min(total_spend) as min_spend,max(total_spend) as max_spend,avg(total_spend) as avg_spend from anz.customer_master_profile_gold;"
   ]
  },
  {
   "cell_type": "code",
   "execution_count": 0,
   "metadata": {
    "application/vnd.databricks.v1+cell": {
     "cellMetadata": {
      "byteLimit": 2048000,
      "rowLimit": 10000
     },
     "inputWidgets": {},
     "nuid": "8b71affd-9143-400c-8f35-762e3b9dbff3",
     "showTitle": true,
     "tableResultSettingsMap": {},
     "title": "- Min, Max, and Avg Transaction Amounts in anzdb"
    }
   },
   "outputs": [],
   "source": [
    "select min(avg_transaction_amount) as min_avg_spend, max(avg_transaction_amount) as max_avg_spend,avg(avg_transaction_amount) as avg_avg_spend from anzdb.customer_master_profile_gold;\n"
   ]
  },
  {
   "cell_type": "code",
   "execution_count": 0,
   "metadata": {
    "application/vnd.databricks.v1+cell": {
     "cellMetadata": {
      "byteLimit": 2048000,
      "rowLimit": 10000
     },
     "inputWidgets": {},
     "nuid": "273b01c5-4387-4737-97b4-afb923f88b92",
     "showTitle": true,
     "tableResultSettingsMap": {},
     "title": "- Summary of Transaction Counts in Customer Profiles"
    }
   },
   "outputs": [],
   "source": [
    "select min(transaction_count) as min_txn_cnt, max(transaction_count) as max_txn_cnt,avg(transaction_count) as avg_txn_cnt from anz.customer_master_profile_gold;"
   ]
  },
  {
   "cell_type": "code",
   "execution_count": 0,
   "metadata": {
    "application/vnd.databricks.v1+cell": {
     "cellMetadata": {
      "byteLimit": 2048000,
      "rowLimit": 10000
     },
     "inputWidgets": {},
     "nuid": "77722b5e-8574-4fba-b953-40b9f944c1a3",
     "showTitle": true,
     "tableResultSettingsMap": {},
     "title": "Max Last Transaction Date in Customer Profiles"
    }
   },
   "outputs": [],
   "source": [
    "select max(last_transaction_date) from anzdb.customer_master_profile_gold"
   ]
  },
  {
   "cell_type": "code",
   "execution_count": 0,
   "metadata": {
    "application/vnd.databricks.v1+cell": {
     "cellMetadata": {
      "byteLimit": 2048000,
      "rowLimit": 10000
     },
     "inputWidgets": {},
     "nuid": "c231a4ee-b718-4783-b152-5c564bd7914e",
     "showTitle": true,
     "tableResultSettingsMap": {},
     "title": "- Customer Tenure Days Statistics in anzdb"
    }
   },
   "outputs": [],
   "source": [
    "select min(customer_tenure_days) as min_tenure_days, max(customer_tenure_days) as max_tenure_days,avg(customer_tenure_days) as avg_tenure_days from anzdb.customer_master_profile_gold;"
   ]
  },
  {
   "cell_type": "code",
   "execution_count": 0,
   "metadata": {
    "application/vnd.databricks.v1+cell": {
     "cellMetadata": {
      "byteLimit": 2048000,
      "rowLimit": 10000
     },
     "inputWidgets": {},
     "nuid": "836e5548-a54f-4e45-b0dc-416f3a1174c1",
     "showTitle": true,
     "tableResultSettingsMap": {},
     "title": "- Summarizing Customer Transfer Counts in anzdb"
    }
   },
   "outputs": [],
   "source": [
    "select sum(count_pos), sum(count_payment_transfer),sum(count_inter_bank_transfer),count(count_phone_banking) from anzdb.customer_master_profile_gold;"
   ]
  },
  {
   "cell_type": "markdown",
   "metadata": {
    "application/vnd.databricks.v1+cell": {
     "cellMetadata": {},
     "inputWidgets": {},
     "nuid": "c321a9ed-cf44-4653-85f7-1e91da0f1012",
     "showTitle": false,
     "tableResultSettingsMap": {},
     "title": ""
    }
   },
   "source": [
    "### Customer Profile Metrics\n",
    "\n",
    "- **total_spend**: Ranges from ~925 to ~12865.\\\n",
    "    _A few are > 10000 and a few are < 1000.\\\n",
    "    Many are in the 3000-9000 range._\n",
    "- **avg_transaction_amount**: Varies widely, from ~21 to ~183.\n",
    "- **transaction_count**: From 22 to 564.\n",
    "- **recency_days**: Mostly 2400-2408. This suggests the data is from a fixed historical period and CURRENT_DATE() was far in the future. For actual campaign targeting, relative recency if we assume the latest last_transaction_date in the sample is \"recent\".\n",
    "- **Max** **last_transaction_date** in sample: 2018-10-31\n",
    "- **customer_tenure_days**: Mostly around 85-91 days. This means the observation window for this data is about 3 months. This is important context.\n",
    "- **age**: Ranges from 18 to 78. Good spread.\n",
    "- **spend_pos**: Significant for many, indicates retail/card activity.\n",
    "- **spend_payment_transfer** & **spend_inter_bank_transfer**: Some customers have high values here."
   ]
  },
  {
   "cell_type": "markdown",
   "metadata": {
    "application/vnd.databricks.v1+cell": {
     "cellMetadata": {},
     "inputWidgets": {},
     "nuid": "a70bf0d5-bba4-4237-8675-1d33cc5449f8",
     "showTitle": false,
     "tableResultSettingsMap": {},
     "title": ""
    }
   },
   "source": [
    "### Example Thresholds (Based on this Sample - Adjust with full dataset EDA)\n",
    "\n",
    "**1. total_spend Thresholds:**\n",
    "- Observation: Eyeballing, > $9000 seems to be the higher end in this sample. Around 5000−6000 seems like a mid-to-high point. < $3000 seems lower.\n",
    "- High Spenders: total_spend >= 9000\n",
    "- Medium Spenders: total_spend >= 5000 AND total_spend < 9000\n",
    "- Lower Spenders: total_spend < 5000\n",
    "\n",
    "**2. transaction_count Thresholds (given ~90 day tenure):**\n",
    "- High: > 150 transactions (roughly > 1.6 per day)\n",
    "- Medium: 75-150 transactions\n",
    "- Low: < 75 transactions\n",
    "- Active (Frequency): transaction_count >= 75 (about 2-3 transactions per week on average)\n",
    "- Very Active (Frequency): transaction_count >= 150\n",
    "\n",
    "**3. avg_transaction_amount Thresholds:**\n",
    "- High: avg_transaction_amount >= 75\n",
    "- Medium: avg_transaction_amount >= 45 AND avg_transaction_amount < 75\n",
    "\n",
    "**4. recency_days (Relative to Max Date in Sample: 2018-10-31):**\n",
    "- For this historical dataset, if we consider \"recent\" as transactions within the last few days of this period:\n",
    "  - last_transaction_date >= '2018-10-28' (i.e., within 3 days of max date).\n",
    "- For a real campaign, this would be recency_days < 30 or < 90 using current date.\n",
    "\n",
    "**5. age Group Thresholds:**\n",
    "- Young: age <= 28\n",
    "- Mid-Age: age > 28 AND age <= 50\n",
    "- Senior: age > 50\n",
    "\n",
    "**6. Spend Category Dominance (Example for spend_pos):**\n",
    "- POS Dominant: spend_pos / total_spend >= 0.6 (60% of spend is POS)"
   ]
  },
  {
   "cell_type": "markdown",
   "metadata": {
    "application/vnd.databricks.v1+cell": {
     "cellMetadata": {},
     "inputWidgets": {},
     "nuid": "08d4741c-8e1b-4d02-a077-5ea792d5330e",
     "showTitle": false,
     "tableResultSettingsMap": {},
     "title": ""
    }
   },
   "source": [
    "### Rule-Based Segmentation for Marketing Campaigns (Using Derived Thresholds)\n",
    "\n",
    "**is_sample_recent_customer**: Since your recency_days are very high, I've created a flag to identify customers active towards the end of your dataset's ~3 month period. In a real DLT pipeline targeting current customers, you would use your recency_days column directly with thresholds like < 30, < 90.\n",
    "\n",
    "**Premium CC Candidate**:\n",
    "- Targets the top spenders (>= 9000 from sample).\n",
    "- Looks for higher average transaction amounts.\n",
    "- Requires high frequency and recent activity.\n",
    "- Targets a typical prime age range.\n",
    "\n",
    "**Standard CC Candidate**:\n",
    "- Targets medium spenders who are not premium candidates.\n",
    "- Requires good activity levels and a significant portion of their spending at Point of Sale.\n",
    "\n",
    "**Personal Loan Candidate**:\n",
    "- Looks for established customers (good tenure for this sample).\n",
    "- Good overall financial activity (total_spend).\n",
    "- Evidence of handling larger sums (high max_transaction_amount or significant spend_payment_transfer / spend_inter_bank_transfer). This is a proxy for needing or being able to manage loan repayments.\n",
    "\n",
    "**Potential Investor**:\n",
    "- Targets the very highest spenders.\n",
    "- Looks for consistently higher value transactions (median_transaction_amount).\n",
    "- Significant proportion of funds being moved via transfers, which might indicate investment activity (this is a weaker proxy and needs business validation).\n",
    "- Targets a slightly older, more established demographic.\n"
   ]
  }
 ],
 "metadata": {
  "application/vnd.databricks.v1+notebook": {
   "computePreferences": null,
   "dashboards": [],
   "environmentMetadata": {
    "base_environment": "",
    "environment_version": "2"
   },
   "inputWidgetPreferences": null,
   "language": "sql",
   "notebookMetadata": {
    "pythonIndentUnit": 4
   },
   "notebookName": "ANZ EDA",
   "widgets": {}
  },
  "language_info": {
   "name": "sql"
  }
 },
 "nbformat": 4,
 "nbformat_minor": 0
}
